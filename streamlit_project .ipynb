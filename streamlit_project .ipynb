{
 "cells": [
  {
   "cell_type": "code",
   "execution_count": 18,
   "id": "848f1069",
   "metadata": {
    "ExecuteTime": {
     "end_time": "2024-05-17T06:09:21.361340300Z",
     "start_time": "2024-05-17T06:09:21.298778800Z"
    }
   },
   "outputs": [],
   "source": [
    "import warnings\n",
    "import numpy as np\n",
    "import pandas as pd\n",
    "warnings.filterwarnings('ignore')"
   ]
  },
  {
   "cell_type": "code",
   "execution_count": 19,
   "outputs": [
    {
     "data": {
      "text/plain": "       id                        title                     genre  \\\n0     278     The Shawshank Redemption               Drama,Crime   \n1   19404  Dilwale Dulhania Le Jayenge      Comedy,Drama,Romance   \n2     238                The Godfather               Drama,Crime   \n3     424             Schindler's List         Drama,History,War   \n4     240       The Godfather: Part II               Drama,Crime   \n5  667257            Impossible Things              Family,Drama   \n6     129                Spirited Away  Animation,Family,Fantasy   \n7  730154               Your Eyes Tell             Romance,Drama   \n8  372754     Dou kyu sei – Classmates         Romance,Animation   \n9  372058                   Your Name.   Romance,Animation,Drama   \n\n  original_language                                           overview  \\\n0                en  Framed in the 1940s for the double murder of h...   \n1                hi  Raj is a rich, carefree, happy-go-lucky second...   \n2                en  Spanning the years 1945 to 1955, a chronicle o...   \n3                en  The true story of how businessman Oskar Schind...   \n4                en  In the continuing saga of the Corleone crime f...   \n5                es  Matilde is a woman who, after the death of her...   \n6                ja  A young girl, Chihiro, becomes trapped in a st...   \n7                ja  A tragic accident lead to Kaori's blindness, b...   \n8                ja  Rihito Sajo, an honor student with a perfect s...   \n9                ja  High schoolers Mitsuha and Taki are complete s...   \n\n   popularity release_date  vote_average vote_count  \n0      94.075    9/23/1994           8.7     21862a  \n1      25.408   10/19/1995           8.7       3731  \n2      90.585    3/14/1972           8.7      16280  \n3      44.761   12/15/1993           8.6      12959  \n4      57.749   12/20/1974           8.6       9811  \n5      14.358    6/17/2021           8.6        255  \n6      92.056    7/20/2001           8.5      13093  \n7      51.345   10/23/2020           8.5        339  \n8      14.285    2/20/2016           8.5        239  \n9     158.270    8/26/2016           8.5       8895  ",
      "text/html": "<div>\n<style scoped>\n    .dataframe tbody tr th:only-of-type {\n        vertical-align: middle;\n    }\n\n    .dataframe tbody tr th {\n        vertical-align: top;\n    }\n\n    .dataframe thead th {\n        text-align: right;\n    }\n</style>\n<table border=\"1\" class=\"dataframe\">\n  <thead>\n    <tr style=\"text-align: right;\">\n      <th></th>\n      <th>id</th>\n      <th>title</th>\n      <th>genre</th>\n      <th>original_language</th>\n      <th>overview</th>\n      <th>popularity</th>\n      <th>release_date</th>\n      <th>vote_average</th>\n      <th>vote_count</th>\n    </tr>\n  </thead>\n  <tbody>\n    <tr>\n      <th>0</th>\n      <td>278</td>\n      <td>The Shawshank Redemption</td>\n      <td>Drama,Crime</td>\n      <td>en</td>\n      <td>Framed in the 1940s for the double murder of h...</td>\n      <td>94.075</td>\n      <td>9/23/1994</td>\n      <td>8.7</td>\n      <td>21862a</td>\n    </tr>\n    <tr>\n      <th>1</th>\n      <td>19404</td>\n      <td>Dilwale Dulhania Le Jayenge</td>\n      <td>Comedy,Drama,Romance</td>\n      <td>hi</td>\n      <td>Raj is a rich, carefree, happy-go-lucky second...</td>\n      <td>25.408</td>\n      <td>10/19/1995</td>\n      <td>8.7</td>\n      <td>3731</td>\n    </tr>\n    <tr>\n      <th>2</th>\n      <td>238</td>\n      <td>The Godfather</td>\n      <td>Drama,Crime</td>\n      <td>en</td>\n      <td>Spanning the years 1945 to 1955, a chronicle o...</td>\n      <td>90.585</td>\n      <td>3/14/1972</td>\n      <td>8.7</td>\n      <td>16280</td>\n    </tr>\n    <tr>\n      <th>3</th>\n      <td>424</td>\n      <td>Schindler's List</td>\n      <td>Drama,History,War</td>\n      <td>en</td>\n      <td>The true story of how businessman Oskar Schind...</td>\n      <td>44.761</td>\n      <td>12/15/1993</td>\n      <td>8.6</td>\n      <td>12959</td>\n    </tr>\n    <tr>\n      <th>4</th>\n      <td>240</td>\n      <td>The Godfather: Part II</td>\n      <td>Drama,Crime</td>\n      <td>en</td>\n      <td>In the continuing saga of the Corleone crime f...</td>\n      <td>57.749</td>\n      <td>12/20/1974</td>\n      <td>8.6</td>\n      <td>9811</td>\n    </tr>\n    <tr>\n      <th>5</th>\n      <td>667257</td>\n      <td>Impossible Things</td>\n      <td>Family,Drama</td>\n      <td>es</td>\n      <td>Matilde is a woman who, after the death of her...</td>\n      <td>14.358</td>\n      <td>6/17/2021</td>\n      <td>8.6</td>\n      <td>255</td>\n    </tr>\n    <tr>\n      <th>6</th>\n      <td>129</td>\n      <td>Spirited Away</td>\n      <td>Animation,Family,Fantasy</td>\n      <td>ja</td>\n      <td>A young girl, Chihiro, becomes trapped in a st...</td>\n      <td>92.056</td>\n      <td>7/20/2001</td>\n      <td>8.5</td>\n      <td>13093</td>\n    </tr>\n    <tr>\n      <th>7</th>\n      <td>730154</td>\n      <td>Your Eyes Tell</td>\n      <td>Romance,Drama</td>\n      <td>ja</td>\n      <td>A tragic accident lead to Kaori's blindness, b...</td>\n      <td>51.345</td>\n      <td>10/23/2020</td>\n      <td>8.5</td>\n      <td>339</td>\n    </tr>\n    <tr>\n      <th>8</th>\n      <td>372754</td>\n      <td>Dou kyu sei – Classmates</td>\n      <td>Romance,Animation</td>\n      <td>ja</td>\n      <td>Rihito Sajo, an honor student with a perfect s...</td>\n      <td>14.285</td>\n      <td>2/20/2016</td>\n      <td>8.5</td>\n      <td>239</td>\n    </tr>\n    <tr>\n      <th>9</th>\n      <td>372058</td>\n      <td>Your Name.</td>\n      <td>Romance,Animation,Drama</td>\n      <td>ja</td>\n      <td>High schoolers Mitsuha and Taki are complete s...</td>\n      <td>158.270</td>\n      <td>8/26/2016</td>\n      <td>8.5</td>\n      <td>8895</td>\n    </tr>\n  </tbody>\n</table>\n</div>"
     },
     "execution_count": 19,
     "metadata": {},
     "output_type": "execute_result"
    }
   ],
   "source": [
    "url = 'https://drive.google.com/file/d/19E-Sh2TomdKqIpyWXLM3FZMQnheP0dCm/view?usp=sharing'\n",
    "url = 'https://drive.google.com/uc?id=' + url.split('/')[-2]\n",
    "movies = pd.read_csv(url)\n",
    "movies.head(10)"
   ],
   "metadata": {
    "collapsed": false,
    "ExecuteTime": {
     "end_time": "2024-05-17T06:09:27.882034500Z",
     "start_time": "2024-05-17T06:09:21.298778800Z"
    }
   },
   "id": "5f8e7fd00cde818b"
  },
  {
   "cell_type": "code",
   "execution_count": 20,
   "id": "adf91c84",
   "metadata": {
    "ExecuteTime": {
     "end_time": "2024-05-17T06:09:27.895451100Z",
     "start_time": "2024-05-17T06:09:27.882545Z"
    }
   },
   "outputs": [
    {
     "name": "stdout",
     "output_type": "stream",
     "text": [
      "['overview', 'genre']\n"
     ]
    }
   ],
   "source": [
    "selected_features = ['overview', 'genre']\n",
    "print(selected_features)"
   ]
  },
  {
   "cell_type": "code",
   "execution_count": 21,
   "id": "5f174301",
   "metadata": {
    "ExecuteTime": {
     "end_time": "2024-05-17T06:09:27.909299300Z",
     "start_time": "2024-05-17T06:09:27.882545Z"
    }
   },
   "outputs": [],
   "source": [
    "for feature in selected_features:\n",
    "  movies[feature] = movies[feature].fillna('')"
   ]
  },
  {
   "cell_type": "code",
   "execution_count": 22,
   "id": "0aadad74",
   "metadata": {
    "ExecuteTime": {
     "end_time": "2024-05-17T06:09:27.940929300Z",
     "start_time": "2024-05-17T06:09:27.909299300Z"
    }
   },
   "outputs": [],
   "source": [
    "movies=movies[['id', 'title', 'overview', 'genre']]"
   ]
  },
  {
   "cell_type": "code",
   "execution_count": 23,
   "id": "b5b7d2d2",
   "metadata": {
    "ExecuteTime": {
     "end_time": "2024-05-17T06:09:28.035044100Z",
     "start_time": "2024-05-17T06:09:27.930837700Z"
    }
   },
   "outputs": [
    {
     "data": {
      "text/plain": "          id                                          title  \\\n0        278                       The Shawshank Redemption   \n1      19404                    Dilwale Dulhania Le Jayenge   \n2        238                                  The Godfather   \n3        424                               Schindler's List   \n4        240                         The Godfather: Part II   \n...      ...                                            ...   \n9995   10196                             The Last Airbender   \n9996  331446                       Sharknado 3: Oh Hell No!   \n9997   13995                                Captain America   \n9998    2312  In the Name of the King: A Dungeon Siege Tale   \n9999  455957                                         Domino   \n\n                                               overview  \\\n0     Framed in the 1940s for the double murder of h...   \n1     Raj is a rich, carefree, happy-go-lucky second...   \n2     Spanning the years 1945 to 1955, a chronicle o...   \n3     The true story of how businessman Oskar Schind...   \n4     In the continuing saga of the Corleone crime f...   \n...                                                 ...   \n9995  The story follows the adventures of Aang, a yo...   \n9996  The sharks take bite out of the East Coast whe...   \n9997  During World War II, a brave, patriotic Americ...   \n9998  A man named Farmer sets out to rescue his kidn...   \n9999  Seeking justice for his partner’s murder by an...   \n\n                                                 genre  \\\n0                                          Drama,Crime   \n1                                 Comedy,Drama,Romance   \n2                                          Drama,Crime   \n3                                    Drama,History,War   \n4                                          Drama,Crime   \n...                                                ...   \n9995                          Action,Adventure,Fantasy   \n9996  Action,TV Movie,Science Fiction,Comedy,Adventure   \n9997                        Action,Science Fiction,War   \n9998                    Adventure,Fantasy,Action,Drama   \n9999                             Thriller,Action,Crime   \n\n                                                   tags  \n0     Framed in the 1940s for the double murder of h...  \n1     Raj is a rich, carefree, happy-go-lucky second...  \n2     Spanning the years 1945 to 1955, a chronicle o...  \n3     The true story of how businessman Oskar Schind...  \n4     In the continuing saga of the Corleone crime f...  \n...                                                 ...  \n9995  The story follows the adventures of Aang, a yo...  \n9996  The sharks take bite out of the East Coast whe...  \n9997  During World War II, a brave, patriotic Americ...  \n9998  A man named Farmer sets out to rescue his kidn...  \n9999  Seeking justice for his partner’s murder by an...  \n\n[10000 rows x 5 columns]",
      "text/html": "<div>\n<style scoped>\n    .dataframe tbody tr th:only-of-type {\n        vertical-align: middle;\n    }\n\n    .dataframe tbody tr th {\n        vertical-align: top;\n    }\n\n    .dataframe thead th {\n        text-align: right;\n    }\n</style>\n<table border=\"1\" class=\"dataframe\">\n  <thead>\n    <tr style=\"text-align: right;\">\n      <th></th>\n      <th>id</th>\n      <th>title</th>\n      <th>overview</th>\n      <th>genre</th>\n      <th>tags</th>\n    </tr>\n  </thead>\n  <tbody>\n    <tr>\n      <th>0</th>\n      <td>278</td>\n      <td>The Shawshank Redemption</td>\n      <td>Framed in the 1940s for the double murder of h...</td>\n      <td>Drama,Crime</td>\n      <td>Framed in the 1940s for the double murder of h...</td>\n    </tr>\n    <tr>\n      <th>1</th>\n      <td>19404</td>\n      <td>Dilwale Dulhania Le Jayenge</td>\n      <td>Raj is a rich, carefree, happy-go-lucky second...</td>\n      <td>Comedy,Drama,Romance</td>\n      <td>Raj is a rich, carefree, happy-go-lucky second...</td>\n    </tr>\n    <tr>\n      <th>2</th>\n      <td>238</td>\n      <td>The Godfather</td>\n      <td>Spanning the years 1945 to 1955, a chronicle o...</td>\n      <td>Drama,Crime</td>\n      <td>Spanning the years 1945 to 1955, a chronicle o...</td>\n    </tr>\n    <tr>\n      <th>3</th>\n      <td>424</td>\n      <td>Schindler's List</td>\n      <td>The true story of how businessman Oskar Schind...</td>\n      <td>Drama,History,War</td>\n      <td>The true story of how businessman Oskar Schind...</td>\n    </tr>\n    <tr>\n      <th>4</th>\n      <td>240</td>\n      <td>The Godfather: Part II</td>\n      <td>In the continuing saga of the Corleone crime f...</td>\n      <td>Drama,Crime</td>\n      <td>In the continuing saga of the Corleone crime f...</td>\n    </tr>\n    <tr>\n      <th>...</th>\n      <td>...</td>\n      <td>...</td>\n      <td>...</td>\n      <td>...</td>\n      <td>...</td>\n    </tr>\n    <tr>\n      <th>9995</th>\n      <td>10196</td>\n      <td>The Last Airbender</td>\n      <td>The story follows the adventures of Aang, a yo...</td>\n      <td>Action,Adventure,Fantasy</td>\n      <td>The story follows the adventures of Aang, a yo...</td>\n    </tr>\n    <tr>\n      <th>9996</th>\n      <td>331446</td>\n      <td>Sharknado 3: Oh Hell No!</td>\n      <td>The sharks take bite out of the East Coast whe...</td>\n      <td>Action,TV Movie,Science Fiction,Comedy,Adventure</td>\n      <td>The sharks take bite out of the East Coast whe...</td>\n    </tr>\n    <tr>\n      <th>9997</th>\n      <td>13995</td>\n      <td>Captain America</td>\n      <td>During World War II, a brave, patriotic Americ...</td>\n      <td>Action,Science Fiction,War</td>\n      <td>During World War II, a brave, patriotic Americ...</td>\n    </tr>\n    <tr>\n      <th>9998</th>\n      <td>2312</td>\n      <td>In the Name of the King: A Dungeon Siege Tale</td>\n      <td>A man named Farmer sets out to rescue his kidn...</td>\n      <td>Adventure,Fantasy,Action,Drama</td>\n      <td>A man named Farmer sets out to rescue his kidn...</td>\n    </tr>\n    <tr>\n      <th>9999</th>\n      <td>455957</td>\n      <td>Domino</td>\n      <td>Seeking justice for his partner’s murder by an...</td>\n      <td>Thriller,Action,Crime</td>\n      <td>Seeking justice for his partner’s murder by an...</td>\n    </tr>\n  </tbody>\n</table>\n<p>10000 rows × 5 columns</p>\n</div>"
     },
     "execution_count": 23,
     "metadata": {},
     "output_type": "execute_result"
    }
   ],
   "source": [
    "movies['tags'] = movies['overview']+movies['genre']\n",
    "movies"
   ]
  },
  {
   "cell_type": "code",
   "execution_count": 24,
   "id": "52f0e947",
   "metadata": {
    "ExecuteTime": {
     "end_time": "2024-05-17T06:09:28.035044100Z",
     "start_time": "2024-05-17T06:09:27.938921400Z"
    }
   },
   "outputs": [],
   "source": [
    "combined_features= movies['tags']"
   ]
  },
  {
   "cell_type": "code",
   "execution_count": 25,
   "id": "66e4539d",
   "metadata": {
    "ExecuteTime": {
     "end_time": "2024-05-17T06:09:28.035044100Z",
     "start_time": "2024-05-17T06:09:27.940929300Z"
    }
   },
   "outputs": [
    {
     "data": {
      "text/plain": "          id                                          title  \\\n0        278                       The Shawshank Redemption   \n1      19404                    Dilwale Dulhania Le Jayenge   \n2        238                                  The Godfather   \n3        424                               Schindler's List   \n4        240                         The Godfather: Part II   \n...      ...                                            ...   \n9995   10196                             The Last Airbender   \n9996  331446                       Sharknado 3: Oh Hell No!   \n9997   13995                                Captain America   \n9998    2312  In the Name of the King: A Dungeon Siege Tale   \n9999  455957                                         Domino   \n\n                                                   tags  \n0     Framed in the 1940s for the double murder of h...  \n1     Raj is a rich, carefree, happy-go-lucky second...  \n2     Spanning the years 1945 to 1955, a chronicle o...  \n3     The true story of how businessman Oskar Schind...  \n4     In the continuing saga of the Corleone crime f...  \n...                                                 ...  \n9995  The story follows the adventures of Aang, a yo...  \n9996  The sharks take bite out of the East Coast whe...  \n9997  During World War II, a brave, patriotic Americ...  \n9998  A man named Farmer sets out to rescue his kidn...  \n9999  Seeking justice for his partner’s murder by an...  \n\n[10000 rows x 3 columns]",
      "text/html": "<div>\n<style scoped>\n    .dataframe tbody tr th:only-of-type {\n        vertical-align: middle;\n    }\n\n    .dataframe tbody tr th {\n        vertical-align: top;\n    }\n\n    .dataframe thead th {\n        text-align: right;\n    }\n</style>\n<table border=\"1\" class=\"dataframe\">\n  <thead>\n    <tr style=\"text-align: right;\">\n      <th></th>\n      <th>id</th>\n      <th>title</th>\n      <th>tags</th>\n    </tr>\n  </thead>\n  <tbody>\n    <tr>\n      <th>0</th>\n      <td>278</td>\n      <td>The Shawshank Redemption</td>\n      <td>Framed in the 1940s for the double murder of h...</td>\n    </tr>\n    <tr>\n      <th>1</th>\n      <td>19404</td>\n      <td>Dilwale Dulhania Le Jayenge</td>\n      <td>Raj is a rich, carefree, happy-go-lucky second...</td>\n    </tr>\n    <tr>\n      <th>2</th>\n      <td>238</td>\n      <td>The Godfather</td>\n      <td>Spanning the years 1945 to 1955, a chronicle o...</td>\n    </tr>\n    <tr>\n      <th>3</th>\n      <td>424</td>\n      <td>Schindler's List</td>\n      <td>The true story of how businessman Oskar Schind...</td>\n    </tr>\n    <tr>\n      <th>4</th>\n      <td>240</td>\n      <td>The Godfather: Part II</td>\n      <td>In the continuing saga of the Corleone crime f...</td>\n    </tr>\n    <tr>\n      <th>...</th>\n      <td>...</td>\n      <td>...</td>\n      <td>...</td>\n    </tr>\n    <tr>\n      <th>9995</th>\n      <td>10196</td>\n      <td>The Last Airbender</td>\n      <td>The story follows the adventures of Aang, a yo...</td>\n    </tr>\n    <tr>\n      <th>9996</th>\n      <td>331446</td>\n      <td>Sharknado 3: Oh Hell No!</td>\n      <td>The sharks take bite out of the East Coast whe...</td>\n    </tr>\n    <tr>\n      <th>9997</th>\n      <td>13995</td>\n      <td>Captain America</td>\n      <td>During World War II, a brave, patriotic Americ...</td>\n    </tr>\n    <tr>\n      <th>9998</th>\n      <td>2312</td>\n      <td>In the Name of the King: A Dungeon Siege Tale</td>\n      <td>A man named Farmer sets out to rescue his kidn...</td>\n    </tr>\n    <tr>\n      <th>9999</th>\n      <td>455957</td>\n      <td>Domino</td>\n      <td>Seeking justice for his partner’s murder by an...</td>\n    </tr>\n  </tbody>\n</table>\n<p>10000 rows × 3 columns</p>\n</div>"
     },
     "execution_count": 25,
     "metadata": {},
     "output_type": "execute_result"
    }
   ],
   "source": [
    "new_data  = movies.drop(columns=['overview', 'genre'])\n",
    "new_data"
   ]
  },
  {
   "cell_type": "code",
   "execution_count": 26,
   "id": "0115702d",
   "metadata": {
    "ExecuteTime": {
     "end_time": "2024-05-17T06:09:30.648872100Z",
     "start_time": "2024-05-17T06:09:27.957424800Z"
    }
   },
   "outputs": [
    {
     "name": "stdout",
     "output_type": "stream",
     "text": [
      "  (0, 6050)\t0.0612538429167934\n",
      "  (0, 7748)\t0.03828766689752139\n",
      "  (0, 12100)\t0.11799536206639417\n",
      "  (0, 22496)\t0.1330115400559194\n",
      "  (0, 26579)\t0.19480620340355656\n",
      "  (0, 13053)\t0.17383657784387052\n",
      "  (0, 20630)\t0.13111831391223913\n",
      "  (0, 17086)\t0.09444231478678394\n",
      "  (0, 19690)\t0.14487708742766808\n",
      "  (0, 17838)\t0.1213893210729216\n",
      "  (0, 12709)\t0.11648113744709981\n",
      "  (0, 12931)\t0.1618722797825502\n",
      "  (0, 18067)\t0.08679724224466641\n",
      "  (0, 3839)\t0.05270978856697799\n",
      "  (0, 711)\t0.17998707276541237\n",
      "  (0, 2526)\t0.06983295254939055\n",
      "  (0, 5210)\t0.09828817440902823\n",
      "  (0, 24274)\t0.16516794212726824\n",
      "  (0, 15027)\t0.09892168701946276\n",
      "  (0, 7959)\t0.08730465408531558\n",
      "  (0, 27351)\t0.1634566701565928\n",
      "  (0, 1229)\t0.18388501398779\n",
      "  (0, 1255)\t0.09376201216899409\n",
      "  (0, 27901)\t0.0974466548699561\n",
      "  (0, 25562)\t0.05471221694153387\n",
      "  :\t:\n",
      "  (9999, 14051)\t0.13854867540933413\n",
      "  (9999, 11894)\t0.11618216034196392\n",
      "  (9999, 22410)\t0.17885319647240247\n",
      "  (9999, 10354)\t0.14697971230095458\n",
      "  (9999, 17798)\t0.153239729765301\n",
      "  (9999, 16103)\t0.16752718373972447\n",
      "  (9999, 18508)\t0.15742876663182598\n",
      "  (9999, 637)\t0.07247300854328614\n",
      "  (9999, 25408)\t0.06767560422170613\n",
      "  (9999, 9587)\t0.10896860112607618\n",
      "  (9999, 1767)\t0.07222939535188747\n",
      "  (9999, 27798)\t0.0580587987126843\n",
      "  (9999, 27642)\t0.07142346098805637\n",
      "  (9999, 13300)\t0.05475773369951321\n",
      "  (9999, 6050)\t0.08355389323584266\n",
      "  (9999, 18067)\t0.11839661262604875\n",
      "  (9999, 3839)\t0.07189929376988828\n",
      "  (9999, 1255)\t0.06394848699523868\n",
      "  (9999, 25562)\t0.0373153627213149\n",
      "  (9999, 1288)\t0.03926493096598922\n",
      "  (9999, 11925)\t0.05375130376290193\n",
      "  (9999, 16952)\t0.13449980291607647\n",
      "  (9999, 9893)\t0.06503542872252303\n",
      "  (9999, 25292)\t0.034442034612893246\n",
      "  (9999, 12665)\t0.04585192109309159\n"
     ]
    }
   ],
   "source": [
    "from sklearn.feature_extraction.text import TfidfVectorizer\n",
    "vectorizer = TfidfVectorizer()\n",
    "feature_vectors = vectorizer.fit_transform(combined_features)\n",
    "print(feature_vectors)"
   ]
  },
  {
   "cell_type": "code",
   "execution_count": 27,
   "id": "c9f7cb14",
   "metadata": {
    "ExecuteTime": {
     "end_time": "2024-05-17T06:09:35.242478700Z",
     "start_time": "2024-05-17T06:09:30.630629600Z"
    }
   },
   "outputs": [
    {
     "name": "stdout",
     "output_type": "stream",
     "text": [
      "[[1.         0.06362268 0.06544422 ... 0.07336891 0.0808491  0.06708015]\n",
      " [0.06362268 1.         0.04012619 ... 0.03013573 0.03153386 0.02911721]\n",
      " [0.06544422 0.04012619 1.         ... 0.03562469 0.05258387 0.03343605]\n",
      " ...\n",
      " [0.07336891 0.03013573 0.03562469 ... 1.         0.03274969 0.01643958]\n",
      " [0.0808491  0.03153386 0.05258387 ... 0.03274969 1.         0.0392191 ]\n",
      " [0.06708015 0.02911721 0.03343605 ... 0.01643958 0.0392191  1.        ]]\n"
     ]
    }
   ],
   "source": [
    "from sklearn.metrics.pairwise import cosine_similarity\n",
    "similarity = cosine_similarity(feature_vectors)\n",
    "print(similarity)"
   ]
  },
  {
   "cell_type": "code",
   "execution_count": 28,
   "id": "e5551b09",
   "metadata": {
    "ExecuteTime": {
     "end_time": "2024-05-17T06:09:35.258116800Z",
     "start_time": "2024-05-17T06:09:35.241473500Z"
    }
   },
   "outputs": [
    {
     "name": "stdout",
     "output_type": "stream",
     "text": [
      "(10000, 10000)\n"
     ]
    }
   ],
   "source": [
    "print(similarity.shape)"
   ]
  },
  {
   "cell_type": "code",
   "execution_count": 29,
   "id": "c7688011",
   "metadata": {
    "ExecuteTime": {
     "end_time": "2024-05-17T06:09:46.479245600Z",
     "start_time": "2024-05-17T06:09:35.242478700Z"
    }
   },
   "outputs": [],
   "source": [
    "movie_name = input(' Enter your favourite movie name : ')"
   ]
  },
  {
   "cell_type": "code",
   "execution_count": 30,
   "id": "dcbbf38a",
   "metadata": {
    "ExecuteTime": {
     "end_time": "2024-05-17T06:09:48.584043800Z",
     "start_time": "2024-05-17T06:09:46.333584200Z"
    }
   },
   "outputs": [
    {
     "name": "stdout",
     "output_type": "stream",
     "text": [
      "Movies suggested for you : \n",
      "\n",
      "1 . Avatar\n",
      "2 . Apollo 18\n",
      "3 . The Matrix\n",
      "4 . Europa Report\n",
      "5 . Mune: Guardian of the Moon\n",
      "6 . Tears of the Sun\n",
      "7 . The American\n",
      "8 . Hellraiser: Bloodline\n",
      "9 . Prospect\n",
      "10 . Stand by Me Doraemon\n",
      "11 . Spectral\n",
      "12 . The Book of Life\n",
      "13 . Bitter Moon\n",
      "14 . Blood and Chocolate\n",
      "15 . Skylines\n",
      "16 . I Am Mother\n",
      "17 . Thor: Ragnarok\n",
      "18 . E.T. the Extra-Terrestrial\n",
      "19 . Aliens vs Predator: Requiem\n",
      "20 . Predator 2\n",
      "21 . Azumi\n",
      "22 . Supernova\n",
      "23 . Captain Marvel\n",
      "24 . Star Trek IV: The Voyage Home\n",
      "25 . First Man\n",
      "26 . Rakka\n",
      "27 . Moonfall\n",
      "28 . Krull\n",
      "29 . Iron Man 3\n"
     ]
    }
   ],
   "source": [
    "import difflib\n",
    "if 'index' not in movies.columns:\n",
    "    movies.reset_index(inplace=True)\n",
    "list_of_all_titles = movies['title'].tolist()\n",
    "find_close_match = difflib.get_close_matches(movie_name, list_of_all_titles)\n",
    "close_match = find_close_match[0]\n",
    "index_of_the_movie = movies[movies.title == close_match]['index'].values[0]\n",
    "similarity_score = list(enumerate(similarity[index_of_the_movie]))\n",
    "sorted_similar_movies = sorted(similarity_score, key = lambda x:x[1], reverse = True)\n",
    "print('Movies suggested for you : \\n')\n",
    "i = 1\n",
    "for movie in sorted_similar_movies:\n",
    "  index = movie[0]\n",
    "  title_from_index = movies[movies.index==index]['title'].values[0]\n",
    "  if (i<30):\n",
    "    print(i, '.',title_from_index)\n",
    "    i+=1"
   ]
  },
  {
   "cell_type": "code",
   "execution_count": 31,
   "id": "7480c474",
   "metadata": {
    "ExecuteTime": {
     "end_time": "2024-05-17T06:09:48.584043800Z",
     "start_time": "2024-05-17T06:09:48.578535700Z"
    }
   },
   "outputs": [],
   "source": [
    "import pickle"
   ]
  },
  {
   "cell_type": "code",
   "execution_count": 32,
   "id": "99fd30cb",
   "metadata": {
    "ExecuteTime": {
     "end_time": "2024-05-17T06:09:48.599834200Z",
     "start_time": "2024-05-17T06:09:48.584043800Z"
    }
   },
   "outputs": [],
   "source": [
    "pickle.dump(new_data, open('movies_list.pkl', 'wb'))"
   ]
  },
  {
   "cell_type": "code",
   "execution_count": 33,
   "id": "0953cdad",
   "metadata": {
    "ExecuteTime": {
     "end_time": "2024-05-17T06:09:50.149426400Z",
     "start_time": "2024-05-17T06:09:48.599834200Z"
    }
   },
   "outputs": [],
   "source": [
    "pickle.dump(similarity, open('similarity.pkl', 'wb'))"
   ]
  },
  {
   "cell_type": "code",
   "execution_count": 34,
   "id": "e51caf21",
   "metadata": {
    "ExecuteTime": {
     "end_time": "2024-05-17T06:09:50.196856400Z",
     "start_time": "2024-05-17T06:09:50.149426400Z"
    }
   },
   "outputs": [
    {
     "data": {
      "text/plain": "          id                                          title  \\\n0        278                       The Shawshank Redemption   \n1      19404                    Dilwale Dulhania Le Jayenge   \n2        238                                  The Godfather   \n3        424                               Schindler's List   \n4        240                         The Godfather: Part II   \n...      ...                                            ...   \n9995   10196                             The Last Airbender   \n9996  331446                       Sharknado 3: Oh Hell No!   \n9997   13995                                Captain America   \n9998    2312  In the Name of the King: A Dungeon Siege Tale   \n9999  455957                                         Domino   \n\n                                                   tags  \n0     Framed in the 1940s for the double murder of h...  \n1     Raj is a rich, carefree, happy-go-lucky second...  \n2     Spanning the years 1945 to 1955, a chronicle o...  \n3     The true story of how businessman Oskar Schind...  \n4     In the continuing saga of the Corleone crime f...  \n...                                                 ...  \n9995  The story follows the adventures of Aang, a yo...  \n9996  The sharks take bite out of the East Coast whe...  \n9997  During World War II, a brave, patriotic Americ...  \n9998  A man named Farmer sets out to rescue his kidn...  \n9999  Seeking justice for his partner’s murder by an...  \n\n[10000 rows x 3 columns]",
      "text/html": "<div>\n<style scoped>\n    .dataframe tbody tr th:only-of-type {\n        vertical-align: middle;\n    }\n\n    .dataframe tbody tr th {\n        vertical-align: top;\n    }\n\n    .dataframe thead th {\n        text-align: right;\n    }\n</style>\n<table border=\"1\" class=\"dataframe\">\n  <thead>\n    <tr style=\"text-align: right;\">\n      <th></th>\n      <th>id</th>\n      <th>title</th>\n      <th>tags</th>\n    </tr>\n  </thead>\n  <tbody>\n    <tr>\n      <th>0</th>\n      <td>278</td>\n      <td>The Shawshank Redemption</td>\n      <td>Framed in the 1940s for the double murder of h...</td>\n    </tr>\n    <tr>\n      <th>1</th>\n      <td>19404</td>\n      <td>Dilwale Dulhania Le Jayenge</td>\n      <td>Raj is a rich, carefree, happy-go-lucky second...</td>\n    </tr>\n    <tr>\n      <th>2</th>\n      <td>238</td>\n      <td>The Godfather</td>\n      <td>Spanning the years 1945 to 1955, a chronicle o...</td>\n    </tr>\n    <tr>\n      <th>3</th>\n      <td>424</td>\n      <td>Schindler's List</td>\n      <td>The true story of how businessman Oskar Schind...</td>\n    </tr>\n    <tr>\n      <th>4</th>\n      <td>240</td>\n      <td>The Godfather: Part II</td>\n      <td>In the continuing saga of the Corleone crime f...</td>\n    </tr>\n    <tr>\n      <th>...</th>\n      <td>...</td>\n      <td>...</td>\n      <td>...</td>\n    </tr>\n    <tr>\n      <th>9995</th>\n      <td>10196</td>\n      <td>The Last Airbender</td>\n      <td>The story follows the adventures of Aang, a yo...</td>\n    </tr>\n    <tr>\n      <th>9996</th>\n      <td>331446</td>\n      <td>Sharknado 3: Oh Hell No!</td>\n      <td>The sharks take bite out of the East Coast whe...</td>\n    </tr>\n    <tr>\n      <th>9997</th>\n      <td>13995</td>\n      <td>Captain America</td>\n      <td>During World War II, a brave, patriotic Americ...</td>\n    </tr>\n    <tr>\n      <th>9998</th>\n      <td>2312</td>\n      <td>In the Name of the King: A Dungeon Siege Tale</td>\n      <td>A man named Farmer sets out to rescue his kidn...</td>\n    </tr>\n    <tr>\n      <th>9999</th>\n      <td>455957</td>\n      <td>Domino</td>\n      <td>Seeking justice for his partner’s murder by an...</td>\n    </tr>\n  </tbody>\n</table>\n<p>10000 rows × 3 columns</p>\n</div>"
     },
     "execution_count": 34,
     "metadata": {},
     "output_type": "execute_result"
    }
   ],
   "source": [
    "pickle.load(open('movies_list.pkl', 'rb'))"
   ]
  }
 ],
 "metadata": {
  "kernelspec": {
   "display_name": "Python 3 (ipykernel)",
   "language": "python",
   "name": "python3"
  },
  "language_info": {
   "codemirror_mode": {
    "name": "ipython",
    "version": 3
   },
   "file_extension": ".py",
   "mimetype": "text/x-python",
   "name": "python",
   "nbconvert_exporter": "python",
   "pygments_lexer": "ipython3",
   "version": "3.11.5"
  }
 },
 "nbformat": 4,
 "nbformat_minor": 5
}
